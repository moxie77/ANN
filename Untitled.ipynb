{
 "cells": [
  {
   "cell_type": "code",
   "execution_count": 1,
   "metadata": {},
   "outputs": [],
   "source": [
    "import tensorflow as tf\n",
    "import tensorflow.keras as keras\n",
    "\n",
    "import numpy as np\n",
    "import os\n",
    "import keras\n",
    "from keras.datasets import cifar10\n",
    "from keras.models import Sequential\n",
    "from keras.layers.core import Dense, Dropout, Activation\n",
    "from keras.optimizers import Adam\n",
    "from keras.utils import np_utils\n",
    "from sklearn.preprocessing import StandardScaler"
   ]
  },
  {
   "cell_type": "code",
   "execution_count": 2,
   "metadata": {},
   "outputs": [],
   "source": [
    "fashion_mist = keras.datasets.fashion_mnist"
   ]
  },
  {
   "cell_type": "code",
   "execution_count": 3,
   "metadata": {},
   "outputs": [],
   "source": [
    "(X_train,y_train),(X_test,y_test) = fashion_mist.load_data()"
   ]
  },
  {
   "cell_type": "code",
   "execution_count": 4,
   "metadata": {},
   "outputs": [
    {
     "data": {
      "text/plain": [
       "(10000, 28, 28)"
      ]
     },
     "execution_count": 4,
     "metadata": {},
     "output_type": "execute_result"
    }
   ],
   "source": [
    "(X_test.shape)"
   ]
  },
  {
   "cell_type": "code",
   "execution_count": 5,
   "metadata": {},
   "outputs": [],
   "source": [
    "#Flat the array\n",
    "X_train = X_train.reshape(60000,784)\n",
    "X_test = X_test.reshape(10000,784)"
   ]
  },
  {
   "cell_type": "code",
   "execution_count": 6,
   "metadata": {},
   "outputs": [],
   "source": [
    "scaler = StandardScaler()"
   ]
  },
  {
   "cell_type": "code",
   "execution_count": 7,
   "metadata": {},
   "outputs": [],
   "source": [
    "X_train = scaler.fit_transform(X_train)\n",
    "X_test = scaler.fit_transform(X_test)"
   ]
  },
  {
   "cell_type": "code",
   "execution_count": 8,
   "metadata": {},
   "outputs": [],
   "source": [
    "#we will do label encoding of the target class\n",
    "labels=10\n",
    "y_train = np_utils.to_categorical(y_train,labels)\n",
    "y_test = np_utils.to_categorical(y_test,labels)"
   ]
  },
  {
   "cell_type": "code",
   "execution_count": 17,
   "metadata": {},
   "outputs": [],
   "source": [
    "model = Sequential()\n",
    "model.add(Dense(16, input_shape=(784,))) #3*32*32 INPUT 512=number of neurons\n",
    "model.add(Activation('sigmoid'))\n",
    "model.add(Dropout(0.4)) \n",
    "model.add(Dense(16))\n",
    "model.add(Activation('sigmoid'))\n",
    "model.add(Dropout(0.2))\n",
    "model.add(Dense(labels))\n",
    "model.add(Activation('sigmoid'))"
   ]
  },
  {
   "cell_type": "code",
   "execution_count": 18,
   "metadata": {},
   "outputs": [],
   "source": [
    "adam= Adam(0.1)\n",
    "model.compile(loss='categorical_crossentropy',optimizer=adam, metrics=['accuracy'])"
   ]
  },
  {
   "cell_type": "code",
   "execution_count": 19,
   "metadata": {
    "collapsed": true
   },
   "outputs": [
    {
     "name": "stdout",
     "output_type": "stream",
     "text": [
      "Epoch 1/50\n",
      "60/60 [==============================] - 1s 10ms/step - loss: 1.4736 - accuracy: 0.3947 - val_loss: 0.9634 - val_accuracy: 0.6625\n",
      "Epoch 2/50\n",
      "60/60 [==============================] - 0s 8ms/step - loss: 1.1508 - accuracy: 0.5338 - val_loss: 0.8410 - val_accuracy: 0.6824\n",
      "Epoch 3/50\n",
      "60/60 [==============================] - 0s 8ms/step - loss: 1.0951 - accuracy: 0.5623 - val_loss: 0.7902 - val_accuracy: 0.7033\n",
      "Epoch 4/50\n",
      "60/60 [==============================] - 0s 8ms/step - loss: 1.0510 - accuracy: 0.5870 - val_loss: 0.7578 - val_accuracy: 0.7205\n",
      "Epoch 5/50\n",
      "60/60 [==============================] - 0s 8ms/step - loss: 1.0228 - accuracy: 0.6043 - val_loss: 0.7471 - val_accuracy: 0.7058\n",
      "Epoch 6/50\n",
      "60/60 [==============================] - 0s 8ms/step - loss: 1.0173 - accuracy: 0.6120 - val_loss: 0.7280 - val_accuracy: 0.7089\n",
      "Epoch 7/50\n",
      "60/60 [==============================] - 0s 8ms/step - loss: 1.0103 - accuracy: 0.6143 - val_loss: 0.7407 - val_accuracy: 0.7226\n",
      "Epoch 8/50\n",
      "60/60 [==============================] - 1s 8ms/step - loss: 1.0069 - accuracy: 0.6157 - val_loss: 0.7358 - val_accuracy: 0.7203\n",
      "Epoch 9/50\n",
      "60/60 [==============================] - 1s 10ms/step - loss: 0.9944 - accuracy: 0.6263 - val_loss: 0.7113 - val_accuracy: 0.7379\n",
      "Epoch 10/50\n",
      "60/60 [==============================] - 0s 8ms/step - loss: 0.9854 - accuracy: 0.6271 - val_loss: 0.7115 - val_accuracy: 0.7357\n",
      "Epoch 11/50\n",
      "60/60 [==============================] - 1s 10ms/step - loss: 0.9786 - accuracy: 0.6317 - val_loss: 0.7174 - val_accuracy: 0.7315\n",
      "Epoch 12/50\n",
      "60/60 [==============================] - 1s 10ms/step - loss: 0.9864 - accuracy: 0.6282 - val_loss: 0.7061 - val_accuracy: 0.7329\n",
      "Epoch 13/50\n",
      "60/60 [==============================] - 1s 10ms/step - loss: 0.9778 - accuracy: 0.6310 - val_loss: 0.7098 - val_accuracy: 0.7393\n",
      "Epoch 14/50\n",
      "60/60 [==============================] - 1s 9ms/step - loss: 0.9891 - accuracy: 0.6324 - val_loss: 0.7089 - val_accuracy: 0.7308\n",
      "Epoch 15/50\n",
      "60/60 [==============================] - 1s 9ms/step - loss: 0.9691 - accuracy: 0.6391 - val_loss: 0.7082 - val_accuracy: 0.7404\n",
      "Epoch 16/50\n",
      "60/60 [==============================] - 1s 9ms/step - loss: 0.9717 - accuracy: 0.6339 - val_loss: 0.7050 - val_accuracy: 0.7383\n",
      "Epoch 17/50\n",
      "60/60 [==============================] - 1s 9ms/step - loss: 0.9615 - accuracy: 0.6404 - val_loss: 0.7143 - val_accuracy: 0.7247\n",
      "Epoch 18/50\n",
      "60/60 [==============================] - 1s 10ms/step - loss: 0.9663 - accuracy: 0.6401 - val_loss: 0.7016 - val_accuracy: 0.7312\n",
      "Epoch 19/50\n",
      "60/60 [==============================] - 1s 9ms/step - loss: 0.9564 - accuracy: 0.6395 - val_loss: 0.7149 - val_accuracy: 0.7335\n",
      "Epoch 20/50\n",
      "60/60 [==============================] - 1s 9ms/step - loss: 0.9640 - accuracy: 0.6365 - val_loss: 0.7122 - val_accuracy: 0.7427\n",
      "Epoch 21/50\n",
      "60/60 [==============================] - 1s 9ms/step - loss: 0.9501 - accuracy: 0.6453 - val_loss: 0.7004 - val_accuracy: 0.7444\n",
      "Epoch 22/50\n",
      "60/60 [==============================] - 1s 9ms/step - loss: 0.9555 - accuracy: 0.6415 - val_loss: 0.6844 - val_accuracy: 0.7412\n",
      "Epoch 23/50\n",
      "60/60 [==============================] - 1s 8ms/step - loss: 0.9455 - accuracy: 0.6446 - val_loss: 0.6903 - val_accuracy: 0.7474\n",
      "Epoch 24/50\n",
      "60/60 [==============================] - 0s 8ms/step - loss: 0.9501 - accuracy: 0.6438 - val_loss: 0.7061 - val_accuracy: 0.7430\n",
      "Epoch 25/50\n",
      "60/60 [==============================] - 1s 8ms/step - loss: 0.9506 - accuracy: 0.6429 - val_loss: 0.7043 - val_accuracy: 0.7381\n",
      "Epoch 26/50\n",
      "60/60 [==============================] - 1s 9ms/step - loss: 0.9461 - accuracy: 0.6455 - val_loss: 0.6927 - val_accuracy: 0.7449\n",
      "Epoch 27/50\n",
      "60/60 [==============================] - 1s 9ms/step - loss: 0.9430 - accuracy: 0.6442 - val_loss: 0.6936 - val_accuracy: 0.7333\n",
      "Epoch 28/50\n",
      "60/60 [==============================] - 1s 9ms/step - loss: 0.9508 - accuracy: 0.6435 - val_loss: 0.7070 - val_accuracy: 0.7207\n",
      "Epoch 29/50\n",
      "60/60 [==============================] - 1s 8ms/step - loss: 0.9409 - accuracy: 0.6509 - val_loss: 0.6924 - val_accuracy: 0.7474\n",
      "Epoch 30/50\n",
      "60/60 [==============================] - 1s 8ms/step - loss: 0.9420 - accuracy: 0.6512 - val_loss: 0.7025 - val_accuracy: 0.7395\n",
      "Epoch 31/50\n",
      "60/60 [==============================] - 1s 9ms/step - loss: 0.9440 - accuracy: 0.6489 - val_loss: 0.6921 - val_accuracy: 0.7496\n",
      "Epoch 32/50\n",
      "60/60 [==============================] - 1s 8ms/step - loss: 0.9444 - accuracy: 0.6496 - val_loss: 0.6953 - val_accuracy: 0.7538\n",
      "Epoch 33/50\n",
      "60/60 [==============================] - 0s 8ms/step - loss: 0.9368 - accuracy: 0.6552 - val_loss: 0.6846 - val_accuracy: 0.7241\n",
      "Epoch 34/50\n",
      "60/60 [==============================] - 1s 9ms/step - loss: 0.9447 - accuracy: 0.6530 - val_loss: 0.6867 - val_accuracy: 0.7492\n",
      "Epoch 35/50\n",
      "60/60 [==============================] - 1s 8ms/step - loss: 0.9383 - accuracy: 0.6550 - val_loss: 0.6856 - val_accuracy: 0.7510\n",
      "Epoch 36/50\n",
      "60/60 [==============================] - 0s 8ms/step - loss: 0.9393 - accuracy: 0.6535 - val_loss: 0.6915 - val_accuracy: 0.7586\n",
      "Epoch 37/50\n",
      "60/60 [==============================] - 1s 9ms/step - loss: 0.9377 - accuracy: 0.6564 - val_loss: 0.7001 - val_accuracy: 0.7582\n",
      "Epoch 38/50\n",
      "60/60 [==============================] - 1s 9ms/step - loss: 0.9350 - accuracy: 0.6581 - val_loss: 0.6751 - val_accuracy: 0.7587\n",
      "Epoch 39/50\n",
      "60/60 [==============================] - 1s 10ms/step - loss: 0.9292 - accuracy: 0.6624 - val_loss: 0.6951 - val_accuracy: 0.7373\n",
      "Epoch 40/50\n",
      "60/60 [==============================] - 1s 10ms/step - loss: 0.9367 - accuracy: 0.6547 - val_loss: 0.6850 - val_accuracy: 0.7507\n",
      "Epoch 41/50\n",
      "60/60 [==============================] - 1s 10ms/step - loss: 0.9426 - accuracy: 0.6536 - val_loss: 0.7069 - val_accuracy: 0.7393\n",
      "Epoch 42/50\n",
      "60/60 [==============================] - 1s 9ms/step - loss: 0.9593 - accuracy: 0.6446 - val_loss: 0.7209 - val_accuracy: 0.7436\n",
      "Epoch 43/50\n",
      "60/60 [==============================] - 1s 8ms/step - loss: 0.9490 - accuracy: 0.6485 - val_loss: 0.6869 - val_accuracy: 0.7503\n",
      "Epoch 44/50\n",
      "60/60 [==============================] - 1s 9ms/step - loss: 0.9393 - accuracy: 0.6479 - val_loss: 0.6739 - val_accuracy: 0.7569\n",
      "Epoch 45/50\n",
      "60/60 [==============================] - 1s 8ms/step - loss: 0.9427 - accuracy: 0.6530 - val_loss: 0.6686 - val_accuracy: 0.7549\n",
      "Epoch 46/50\n",
      "60/60 [==============================] - 1s 9ms/step - loss: 0.9375 - accuracy: 0.6583 - val_loss: 0.6850 - val_accuracy: 0.7583\n",
      "Epoch 47/50\n",
      "60/60 [==============================] - 1s 9ms/step - loss: 0.9473 - accuracy: 0.6569 - val_loss: 0.6866 - val_accuracy: 0.7613\n",
      "Epoch 48/50\n",
      "60/60 [==============================] - 1s 9ms/step - loss: 0.9451 - accuracy: 0.6602 - val_loss: 0.6992 - val_accuracy: 0.7515\n",
      "Epoch 49/50\n",
      "60/60 [==============================] - 1s 9ms/step - loss: 0.9335 - accuracy: 0.6648 - val_loss: 0.6835 - val_accuracy: 0.7642\n",
      "Epoch 50/50\n",
      "60/60 [==============================] - 1s 9ms/step - loss: 0.9309 - accuracy: 0.6609 - val_loss: 0.6810 - val_accuracy: 0.7620\n"
     ]
    },
    {
     "data": {
      "text/plain": [
       "<tensorflow.python.keras.callbacks.History at 0x7f7573164760>"
      ]
     },
     "execution_count": 19,
     "metadata": {},
     "output_type": "execute_result"
    }
   ],
   "source": [
    "model.fit(X_train,y_train,batch_size=1000, epochs =50,validation_data=(X_test,y_test))"
   ]
  },
  {
   "cell_type": "code",
   "execution_count": 20,
   "metadata": {},
   "outputs": [
    {
     "name": "stdout",
     "output_type": "stream",
     "text": [
      "Test Accuracy: 0.7620000243186951\n"
     ]
    }
   ],
   "source": [
    "score= model.evaluate(X_test,y_test, verbose=0)\n",
    "print('Test Accuracy:',score[1])"
   ]
  },
  {
   "cell_type": "code",
   "execution_count": 21,
   "metadata": {},
   "outputs": [
    {
     "name": "stdout",
     "output_type": "stream",
     "text": [
      "WARNING:tensorflow:From <ipython-input-21-bc459dba29cd>:1: Sequential.predict_classes (from tensorflow.python.keras.engine.sequential) is deprecated and will be removed after 2021-01-01.\n",
      "Instructions for updating:\n",
      "Please use instead:* `np.argmax(model.predict(x), axis=-1)`,   if your model does multi-class classification   (e.g. if it uses a `softmax` last-layer activation).* `(model.predict(x) > 0.5).astype(\"int32\")`,   if your model does binary classification   (e.g. if it uses a `sigmoid` last-layer activation).\n"
     ]
    },
    {
     "data": {
      "text/plain": [
       "array([9, 2, 1, ..., 8, 1, 5])"
      ]
     },
     "execution_count": 21,
     "metadata": {},
     "output_type": "execute_result"
    }
   ],
   "source": [
    "model.predict_classes(X_test)"
   ]
  },
  {
   "cell_type": "code",
   "execution_count": 22,
   "metadata": {},
   "outputs": [
    {
     "name": "stdout",
     "output_type": "stream",
     "text": [
      "WARNING:tensorflow:From /home/mayowa/anaconda3/lib/python3.8/site-packages/tensorflow/python/training/tracking/tracking.py:111: Model.state_updates (from tensorflow.python.keras.engine.training) is deprecated and will be removed in a future version.\n",
      "Instructions for updating:\n",
      "This property should not be used in TensorFlow 2.0, as updates are applied automatically.\n",
      "WARNING:tensorflow:From /home/mayowa/anaconda3/lib/python3.8/site-packages/tensorflow/python/training/tracking/tracking.py:111: Layer.updates (from tensorflow.python.keras.engine.base_layer) is deprecated and will be removed in a future version.\n",
      "Instructions for updating:\n",
      "This property should not be used in TensorFlow 2.0, as updates are applied automatically.\n",
      "INFO:tensorflow:Assets written to: model.cifar/assets\n"
     ]
    }
   ],
   "source": [
    "model.save('model.cifar')\n",
    "JsonModel = model.to_json()\n",
    "model.save_weights('modelweights.cifar')"
   ]
  },
  {
   "cell_type": "code",
   "execution_count": 23,
   "metadata": {},
   "outputs": [],
   "source": [
    "ModelWeight = model.load_weights('modelweights.cifar')"
   ]
  },
  {
   "cell_type": "code",
   "execution_count": 25,
   "metadata": {},
   "outputs": [
    {
     "data": {
      "text/plain": [
       "<tensorflow.python.training.tracking.util.CheckpointLoadStatus at 0x7f75386e4730>"
      ]
     },
     "execution_count": 25,
     "metadata": {},
     "output_type": "execute_result"
    }
   ],
   "source": [
    "ModelWeight"
   ]
  },
  {
   "cell_type": "code",
   "execution_count": null,
   "metadata": {},
   "outputs": [],
   "source": []
  }
 ],
 "metadata": {
  "kernelspec": {
   "display_name": "Python 3",
   "language": "python",
   "name": "python3"
  },
  "language_info": {
   "codemirror_mode": {
    "name": "ipython",
    "version": 3
   },
   "file_extension": ".py",
   "mimetype": "text/x-python",
   "name": "python",
   "nbconvert_exporter": "python",
   "pygments_lexer": "ipython3",
   "version": "3.8.3"
  }
 },
 "nbformat": 4,
 "nbformat_minor": 4
}
